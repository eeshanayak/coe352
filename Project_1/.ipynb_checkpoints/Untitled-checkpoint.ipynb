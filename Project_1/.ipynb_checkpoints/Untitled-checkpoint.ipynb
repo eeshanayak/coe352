{
 "cells": [
  {
   "cell_type": "code",
   "execution_count": 1,
   "metadata": {},
   "outputs": [],
   "source": [
    "import numpy as np\n",
    "from numpy import linalg as LA\n",
    "from scipy.linalg import svd\n",
    "from functions import solve, condition_number"
   ]
  },
  {
   "cell_type": "code",
   "execution_count": 2,
   "metadata": {},
   "outputs": [
    {
     "name": "stdin",
     "output_type": "stream",
     "text": [
      "How many springs are in your system?\t 4\n"
     ]
    }
   ],
   "source": [
    "gravity = 9.8\n",
    "num_springs=int(input(\"How many springs are in your system?\\t\"))"
   ]
  },
  {
   "cell_type": "code",
   "execution_count": 3,
   "metadata": {},
   "outputs": [
    {
     "name": "stdin",
     "output_type": "stream",
     "text": [
      "What type of boundary condition would you like to apply?\n",
      "1. Fixed-Fixed\n",
      "2. Fixed-Free\n",
      "3. Free-Free\n",
      " 3\n"
     ]
    }
   ],
   "source": [
    "boundary_condition = int(input(\"What type of boundary condition would you like to apply?\\n1. Fixed-Fixed\\n2. Fixed-Free\\n3. Free-Free\\n\"))"
   ]
  },
  {
   "cell_type": "code",
   "execution_count": 4,
   "metadata": {},
   "outputs": [
    {
     "name": "stdin",
     "output_type": "stream",
     "text": [
      "What is mass 1?\t 1\n",
      "What is mass 2?\t 2\n",
      "What is mass 3?\t 4\n",
      "What is mass 4?\t 3\n",
      "What is mass 5?\t 2\n"
     ]
    }
   ],
   "source": [
    "# receive mass inputs\n",
    "mass_list = []\n",
    "\n",
    "if (boundary_condition == 1):\n",
    "    num_masses = num_springs - 1\n",
    "elif (boundary_condition == 2):\n",
    "    num_masses = num_springs\n",
    "elif (boundary_condition == 3):\n",
    "    num_masses = num_springs + 1\n",
    "\n",
    "A = np.zeros((num_springs, num_masses))\n",
    "\n",
    "for i in range(num_masses): \n",
    "    mass = int(input('What is mass ' + str(i + 1) + '?\\t')) \n",
    "    mass_list.append(mass)"
   ]
  },
  {
   "cell_type": "code",
   "execution_count": 5,
   "metadata": {},
   "outputs": [
    {
     "name": "stdin",
     "output_type": "stream",
     "text": [
      "What is the spring constant of spring 1?\t 4\n",
      "What is the spring constant of spring 2?\t 3\n",
      "What is the spring constant of spring 3?\t 2\n",
      "What is the spring constant of spring 4?\t 5\n"
     ]
    }
   ],
   "source": [
    "c_list = []\n",
    "\n",
    "# receive spring constants\n",
    "for i in range(num_springs):\n",
    "    c = int(input('What is the spring constant of spring ' + str(i + 1) + '?\\t'))\n",
    "    c_list.append(c)"
   ]
  },
  {
   "cell_type": "code",
   "execution_count": 6,
   "metadata": {},
   "outputs": [
    {
     "ename": "NameError",
     "evalue": "name 'svd' is not defined",
     "output_type": "error",
     "traceback": [
      "\u001b[0;31m---------------------------------------------------------------------------\u001b[0m",
      "\u001b[0;31mNameError\u001b[0m                                 Traceback (most recent call last)",
      "\u001b[0;32m<ipython-input-6-c9a341622db3>\u001b[0m in \u001b[0;36m<module>\u001b[0;34m\u001b[0m\n\u001b[1;32m      5\u001b[0m \u001b[0;34m\u001b[0m\u001b[0m\n\u001b[1;32m      6\u001b[0m \u001b[0;32mif\u001b[0m \u001b[0;34m(\u001b[0m\u001b[0mboundary_condition\u001b[0m \u001b[0;34m==\u001b[0m \u001b[0;36m3\u001b[0m\u001b[0;34m)\u001b[0m\u001b[0;34m:\u001b[0m\u001b[0;34m\u001b[0m\u001b[0;34m\u001b[0m\u001b[0m\n\u001b[0;32m----> 7\u001b[0;31m     \u001b[0mU\u001b[0m\u001b[0;34m,\u001b[0m \u001b[0ms\u001b[0m\u001b[0;34m,\u001b[0m \u001b[0mVT\u001b[0m \u001b[0;34m=\u001b[0m \u001b[0msvd\u001b[0m\u001b[0;34m(\u001b[0m\u001b[0mA\u001b[0m\u001b[0;34m)\u001b[0m\u001b[0;34m\u001b[0m\u001b[0;34m\u001b[0m\u001b[0m\n\u001b[0m",
      "\u001b[0;31mNameError\u001b[0m: name 'svd' is not defined"
     ]
    }
   ],
   "source": [
    "# generate difference matrix\n",
    "np.fill_diagonal(A, 1)\n",
    "np.fill_diagonal(A[1:], -1)\n",
    "    \n",
    "    \n",
    "if (boundary_condition == 3):\n",
    "    U, s, VT = svd(A)"
   ]
  },
  {
   "cell_type": "code",
   "execution_count": null,
   "metadata": {},
   "outputs": [],
   "source": [
    "u, e, w, At, c, f = solve(num_springs, mass_list, c_list, A)\n",
    "\n",
    "c_num_A = condition_number(A)\n",
    "c_num_At = condition_number(At)\n",
    "c_num_c = condition_number(c)\n",
    "\n",
    "condition_number_A = LA.cond(A)\n",
    "\n",
    "report = open('report.txt','w')\n",
    "report.write('The displacements of the springs are:\\n' + str(u[0].round(2).tolist()) + \n",
    "            '\\n\\nThe elongations of the springs are:\\n' + str(e.round(2).tolist()) + \n",
    "            '\\n\\nThe Internal forces within the springs are:\\n' + str(w.round(2).tolist()) + \n",
    "            '\\n\\nThe condition number of A is: ' + str(c_num_A.round(2)) + \n",
    "            '\\n\\nThe condition number of At is: ' + str(c_num_At.round(2)) + \n",
    "            '\\n\\nThe condition number of c is: ' + str(c_num_c.round(2)))"
   ]
  }
 ],
 "metadata": {
  "kernelspec": {
   "display_name": "Python 3",
   "language": "python",
   "name": "python3"
  },
  "language_info": {
   "codemirror_mode": {
    "name": "ipython",
    "version": 3
   },
   "file_extension": ".py",
   "mimetype": "text/x-python",
   "name": "python",
   "nbconvert_exporter": "python",
   "pygments_lexer": "ipython3",
   "version": "3.7.4"
  }
 },
 "nbformat": 4,
 "nbformat_minor": 4
}
