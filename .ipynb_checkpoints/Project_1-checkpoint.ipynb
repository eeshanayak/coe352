{
 "cells": [
  {
   "cell_type": "code",
   "execution_count": 1,
   "metadata": {},
   "outputs": [],
   "source": [
    "import numpy as np"
   ]
  },
  {
   "cell_type": "code",
   "execution_count": 2,
   "metadata": {},
   "outputs": [
    {
     "name": "stdin",
     "output_type": "stream",
     "text": [
      "How many springs are in your system? 4\n"
     ]
    }
   ],
   "source": [
    "gravity = 9.8\n",
    "\n",
    "num_springs=int(input(\"How many springs are in your system?\"))"
   ]
  },
  {
   "cell_type": "code",
   "execution_count": 3,
   "metadata": {},
   "outputs": [
    {
     "name": "stdin",
     "output_type": "stream",
     "text": [
      "What is mass 1? 3\n",
      "What is mass 2? 2\n",
      "What is mass 3? 5\n"
     ]
    }
   ],
   "source": [
    "# receive mass inputs\n",
    "\n",
    "mass_list = []\n",
    "for i in range(num_springs - 1):\n",
    "    mass = int(input('What is mass ' + str(i + 1) + '?'))\n",
    "    mass_list.append(mass)"
   ]
  },
  {
   "cell_type": "code",
   "execution_count": 4,
   "metadata": {},
   "outputs": [
    {
     "name": "stdin",
     "output_type": "stream",
     "text": [
      "What is the spring constant of spring 1? 2\n",
      "What is the spring constant of spring 2? 1\n",
      "What is the spring constant of spring 3? 4\n",
      "What is the spring constant of spring 4? 2\n"
     ]
    }
   ],
   "source": [
    "c_list = []\n",
    "for i in range(num_springs):\n",
    "    c = int(input('What is the spring constant of spring ' + str(i + 1) + '?'))\n",
    "    c_list.append(c)"
   ]
  },
  {
   "cell_type": "code",
   "execution_count": 5,
   "metadata": {},
   "outputs": [
    {
     "data": {
      "text/plain": [
       "array([29.4, 19.6, 49. ])"
      ]
     },
     "execution_count": 5,
     "metadata": {},
     "output_type": "execute_result"
    }
   ],
   "source": [
    "force_matrix = np.array(mass_list) * 9.8\n",
    "force_matrix"
   ]
  },
  {
   "cell_type": "code",
   "execution_count": 6,
   "metadata": {},
   "outputs": [
    {
     "data": {
      "text/plain": [
       "array([[2, 0, 0, 0],\n",
       "       [0, 1, 0, 0],\n",
       "       [0, 0, 4, 0],\n",
       "       [0, 0, 0, 2]])"
      ]
     },
     "execution_count": 6,
     "metadata": {},
     "output_type": "execute_result"
    }
   ],
   "source": [
    "c_matrix = np.zeros((num_springs, num_springs), int)\n",
    "np.fill_diagonal(c_matrix, c_list)\n",
    "c_matrix"
   ]
  },
  {
   "cell_type": "code",
   "execution_count": 14,
   "metadata": {},
   "outputs": [
    {
     "data": {
      "text/plain": [
       "array([[ 1., -1.,  0.],\n",
       "       [ 0.,  1., -1.],\n",
       "       [ 0.,  0.,  1.],\n",
       "       [ 0.,  0.,  0.]])"
      ]
     },
     "execution_count": 14,
     "metadata": {},
     "output_type": "execute_result"
    }
   ],
   "source": [
    "# fixed - fixed system\n",
    "\n",
    "A = np.zeros((num_springs, num_springs - 1))\n",
    "np.fill_diagonal(A, 1)\n",
    "np.fill_diagonal(A[1:], -1)\n",
    "A"
   ]
  },
  {
   "cell_type": "code",
   "execution_count": null,
   "metadata": {},
   "outputs": [],
   "source": []
  }
 ],
 "metadata": {
  "kernelspec": {
   "display_name": "Python 3",
   "language": "python",
   "name": "python3"
  },
  "language_info": {
   "codemirror_mode": {
    "name": "ipython",
    "version": 3
   },
   "file_extension": ".py",
   "mimetype": "text/x-python",
   "name": "python",
   "nbconvert_exporter": "python",
   "pygments_lexer": "ipython3",
   "version": "3.7.4"
  }
 },
 "nbformat": 4,
 "nbformat_minor": 4
}
