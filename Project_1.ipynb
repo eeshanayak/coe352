{
 "cells": [
  {
   "cell_type": "code",
   "execution_count": 120,
   "metadata": {},
   "outputs": [],
   "source": [
    "import numpy as np"
   ]
  },
  {
   "cell_type": "code",
   "execution_count": 140,
   "metadata": {},
   "outputs": [],
   "source": [
    "def solve(mass_list, c_list, A):\n",
    "    \n",
    "    # construct force matrix: force = mass * gravity\n",
    "    force_matrix = np.array(mass_list) * 9.8\n",
    "    \n",
    "    # generate diagonal matrix from spring constants\n",
    "    c_matrix = np.zeros((num_springs, num_springs))\n",
    "    np.fill_diagonal(c_matrix, c_list)\n",
    "    \n",
    "    np.fill_diagonal(A, 1)\n",
    "    np.fill_diagonal(A[1:], -1)\n",
    "    \n",
    "    At = A.transpose()\n",
    "\n",
    "    # cast all objects to matrices\n",
    "    At = np.matrix(At)\n",
    "    A = np.matrix(A)\n",
    "    c_matrix = np.matrix(c_matrix)\n",
    "    force_matrix = np.matrix(force_matrix)\n",
    "    \n",
    "    # solve for k (stiffness matrix): k = (A^t) * c * A\n",
    "    k = At * c_matrix * A\n",
    "    \n",
    "    # invert k to sove for u\n",
    "    kinv = np.linalg.inv(k)\n",
    "    \n",
    "    # solve for u (displacement vector): u = force * (k^-1)\n",
    "    u = force_matrix * kinv\n",
    "    \n",
    "    # solve for e (elongation vector): e = A * u\n",
    "    e = A*u.transpose()\n",
    "    \n",
    "    # solve for w: w = c * e\n",
    "    w = c_matrix * e\n",
    "    \n",
    "    return u, e, w"
   ]
  },
  {
   "cell_type": "code",
   "execution_count": 122,
   "metadata": {},
   "outputs": [
    {
     "name": "stdin",
     "output_type": "stream",
     "text": [
      "How many springs are in your system? 4\n"
     ]
    }
   ],
   "source": [
    "gravity = 9.8\n",
    "num_springs=int(input(\"How many springs are in your system?\"))"
   ]
  },
  {
   "cell_type": "code",
   "execution_count": 123,
   "metadata": {},
   "outputs": [
    {
     "name": "stdin",
     "output_type": "stream",
     "text": [
      "What type of boundary condition would you like to apply? 1. Fixed-Fixed 2. Fixed-Free 1\n"
     ]
    }
   ],
   "source": [
    "boundary_condition = int(input(\"What type of boundary condition would you like to apply? 1. Fixed-Fixed 2. Fixed-Free\"))"
   ]
  },
  {
   "cell_type": "code",
   "execution_count": 125,
   "metadata": {},
   "outputs": [
    {
     "name": "stdin",
     "output_type": "stream",
     "text": [
      "What is mass 1? 1\n",
      "What is mass 2? 1\n",
      "What is mass 3? 1\n"
     ]
    }
   ],
   "source": [
    "# receive mass inputs\n",
    "mass_list = []\n",
    "\n",
    "if (boundary_condition == 1):\n",
    "    num_masses = num_springs - 1\n",
    "    A = np.zeros((num_springs, num_springs - 1))\n",
    "elif (boundary_condition == 2):\n",
    "    num_masses = num_springs\n",
    "    A = np.zeros((num_springs, num_springs))\n",
    "\n",
    "for i in range(num_masses): \n",
    "    mass = int(input('What is mass ' + str(i + 1) + '?')) \n",
    "    mass_list.append(mass)"
   ]
  },
  {
   "cell_type": "code",
   "execution_count": 126,
   "metadata": {},
   "outputs": [
    {
     "name": "stdin",
     "output_type": "stream",
     "text": [
      "What is the spring constant of spring 1? 1\n",
      "What is the spring constant of spring 2? 1\n",
      "What is the spring constant of spring 3? 1\n",
      "What is the spring constant of spring 4? 1\n"
     ]
    }
   ],
   "source": [
    "c_list = []\n",
    "\n",
    "# receive spring constants\n",
    "for i in range(num_springs):\n",
    "    c = int(input('What is the spring constant of spring ' + str(i + 1) + '?'))\n",
    "    c_list.append(c)"
   ]
  },
  {
   "cell_type": "code",
   "execution_count": 141,
   "metadata": {},
   "outputs": [],
   "source": [
    "u, e, w = solve(mass_list, c_list, A)"
   ]
  }
 ],
 "metadata": {
  "kernelspec": {
   "display_name": "Python 3",
   "language": "python",
   "name": "python3"
  },
  "language_info": {
   "codemirror_mode": {
    "name": "ipython",
    "version": 3
   },
   "file_extension": ".py",
   "mimetype": "text/x-python",
   "name": "python",
   "nbconvert_exporter": "python",
   "pygments_lexer": "ipython3",
   "version": "3.7.4"
  }
 },
 "nbformat": 4,
 "nbformat_minor": 4
}
